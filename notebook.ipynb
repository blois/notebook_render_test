{
  "nbformat": 4,
  "nbformat_minor": 0,
  "metadata": {
    "colab": {
      "name": "notebook.ipynb",
      "provenance": []
    },
    "environment": {
      "kernel": "python3",
      "name": "managed-notebooks.m82",
      "type": "gcloud",
      "uri": "gcr.io/deeplearning-platform-release/base-cu110:latest"
    },
    "language_info": {
      "name": "python"
    },
    "kernelspec": {
      "name": "python3",
      "display_name": "Python 3"
    }
  },
  "cells": [
    {
      "cell_type": "code",
      "metadata": {
        "colab": {
          "base_uri": "https://localhost:8080/",
          "height": 17
        },
        "id": "0qTk7q0806oJ",
        "outputId": "65e4e55a-2190-4e0f-f7d3-39468391d586"
      },
      "source": [
        "from IPython.display import HTML\n",
        "HTML('''\n",
        "<script>\n",
        "  console.log('here')\n",
        "</script>\n",
        "''')"
      ],
      "execution_count": 4,
      "outputs": [
        {
          "output_type": "execute_result",
          "data": {
            "text/html": [
              "\n",
              "<script>\n",
              "  console.log('here')\n",
              "</script>\n"
            ],
            "text/plain": [
              "<IPython.core.display.HTML object>"
            ]
          },
          "metadata": {},
          "execution_count": 4
        }
      ]
    },
    {
      "cell_type": "code",
      "metadata": {
        "id": "EoU2PZ3a3nS5",
        "outputId": "045ff639-0a6d-4ff9-8887-ea111b672844"
      },
      "source": [
        "print('hi')"
      ],
      "execution_count": null,
      "outputs": [
        {
          "name": "stdout",
          "output_type": "stream",
          "text": [
            "hi\n"
          ]
        }
      ]
    }
  ]
}